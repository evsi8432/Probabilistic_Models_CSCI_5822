{
 "cells": [
  {
   "cell_type": "code",
   "execution_count": 1,
   "metadata": {
    "collapsed": true
   },
   "outputs": [],
   "source": [
    "# Evan Sidrow\n",
    "# CSCI 5822\n",
    "# Homework 1 \n",
    "\n",
    "import itertools\n",
    "import numpy as np"
   ]
  },
  {
   "cell_type": "code",
   "execution_count": 2,
   "metadata": {},
   "outputs": [
    {
     "name": "stdout",
     "output_type": "stream",
     "text": [
      "{('1st', 'child', 'male', 'yes'): 5.0, ('1st', 'child', 'male', 'no'): 0, ('1st', 'child', 'female', 'yes'): 1.0, ('1st', 'child', 'female', 'no'): 0, ('1st', 'adult', 'male', 'yes'): 57.0, ('1st', 'adult', 'male', 'no'): 118.0, ('1st', 'adult', 'female', 'yes'): 140.0, ('1st', 'adult', 'female', 'no'): 4.0, ('2nd', 'child', 'male', 'yes'): 11.0, ('2nd', 'child', 'male', 'no'): 0, ('2nd', 'child', 'female', 'yes'): 13.0, ('2nd', 'child', 'female', 'no'): 0, ('2nd', 'adult', 'male', 'yes'): 14.0, ('2nd', 'adult', 'male', 'no'): 154.0, ('2nd', 'adult', 'female', 'yes'): 80.0, ('2nd', 'adult', 'female', 'no'): 13.0, ('3rd', 'child', 'male', 'yes'): 13.0, ('3rd', 'child', 'male', 'no'): 35.0, ('3rd', 'child', 'female', 'yes'): 14.0, ('3rd', 'child', 'female', 'no'): 17.0, ('3rd', 'adult', 'male', 'yes'): 75.0, ('3rd', 'adult', 'male', 'no'): 387.0, ('3rd', 'adult', 'female', 'yes'): 76.0, ('3rd', 'adult', 'female', 'no'): 89.0, ('crew', 'child', 'male', 'yes'): 0, ('crew', 'child', 'male', 'no'): 0, ('crew', 'child', 'female', 'yes'): 0, ('crew', 'child', 'female', 'no'): 0, ('crew', 'adult', 'male', 'yes'): 192.0, ('crew', 'adult', 'male', 'no'): 670.0, ('crew', 'adult', 'female', 'yes'): 20.0, ('crew', 'adult', 'female', 'no'): 3.0}\n",
      "{('1st', 'child', 'male', 'yes'): 0.002271694684234439, ('1st', 'child', 'male', 'no'): 0.0, ('1st', 'child', 'female', 'yes'): 0.00045433893684688776, ('1st', 'child', 'female', 'no'): 0.0, ('1st', 'adult', 'male', 'yes'): 0.025897319400272602, ('1st', 'adult', 'male', 'no'): 0.05361199454793276, ('1st', 'adult', 'female', 'yes'): 0.06360745115856428, ('1st', 'adult', 'female', 'no'): 0.001817355747387551, ('2nd', 'child', 'male', 'yes'): 0.004997728305315766, ('2nd', 'child', 'male', 'no'): 0.0, ('2nd', 'child', 'female', 'yes'): 0.005906406179009541, ('2nd', 'child', 'female', 'no'): 0.0, ('2nd', 'adult', 'male', 'yes'): 0.006360745115856429, ('2nd', 'adult', 'male', 'no'): 0.06996819627442072, ('2nd', 'adult', 'female', 'yes'): 0.03634711494775102, ('2nd', 'adult', 'female', 'no'): 0.005906406179009541, ('3rd', 'child', 'male', 'yes'): 0.005906406179009541, ('3rd', 'child', 'male', 'no'): 0.01590186278964107, ('3rd', 'child', 'female', 'yes'): 0.006360745115856429, ('3rd', 'child', 'female', 'no'): 0.007723761926397092, ('3rd', 'adult', 'male', 'yes'): 0.034075420263516586, ('3rd', 'adult', 'male', 'no'): 0.17582916855974556, ('3rd', 'adult', 'female', 'yes'): 0.03452975920036347, ('3rd', 'adult', 'female', 'no'): 0.040436165379373015, ('crew', 'child', 'male', 'yes'): 0.0, ('crew', 'child', 'male', 'no'): 0.0, ('crew', 'child', 'female', 'yes'): 0.0, ('crew', 'child', 'female', 'no'): 0.0, ('crew', 'adult', 'male', 'yes'): 0.08723307587460245, ('crew', 'adult', 'male', 'no'): 0.3044070876874148, ('crew', 'adult', 'female', 'yes'): 0.009086778736937756, ('crew', 'adult', 'female', 'no'): 0.0013630168105406633}\n"
     ]
    }
   ],
   "source": [
    "# task 0\n",
    "\n",
    "classes = ['1st','2nd','3rd','crew']\n",
    "ages = ['child','adult']\n",
    "genders = ['male','female']\n",
    "survived = ['yes','no']\n",
    "keys = itertools.product(*[classes,ages,genders,survived])\n",
    "hist = {}\n",
    "jpt = {}\n",
    "\n",
    "for key in keys:\n",
    "    hist[key] = 0\n",
    "    \n",
    "num_people = 0\n",
    "\n",
    "with open('titanic.txt') as fp:\n",
    "    for line in fp:\n",
    "        num_people += 1\n",
    "        line = tuple(line.split())\n",
    "        hist[line] += 1.0\n",
    "\n",
    "for key in hist:\n",
    "    jpt[key] = hist[key]/num_people\n",
    "\n",
    "print(hist)\n",
    "print(jpt)"
   ]
  },
  {
   "cell_type": "code",
   "execution_count": 3,
   "metadata": {},
   "outputs": [
    {
     "name": "stdout",
     "output_type": "stream",
     "text": [
      "{('1st', 'child', 'male'): 0.0, ('1st', 'child', 'female'): 0.0, ('1st', 'adult', 'male'): 0.6742857142857143, ('1st', 'adult', 'female'): 0.027777777777777776, ('2nd', 'child', 'male'): 0.0, ('2nd', 'child', 'female'): 0.0, ('2nd', 'adult', 'male'): 0.9166666666666666, ('2nd', 'adult', 'female'): 0.13978494623655913, ('3rd', 'child', 'male'): 0.7291666666666666, ('3rd', 'child', 'female'): 0.5483870967741935, ('3rd', 'adult', 'male'): 0.8376623376623377, ('3rd', 'adult', 'female'): 0.5393939393939394, ('crew', 'child', 'male'): 'NA', ('crew', 'child', 'female'): 'NA', ('crew', 'adult', 'male'): 0.777262180974478, ('crew', 'adult', 'female'): 0.13043478260869565}\n",
      "{('1st', 'child', 'male'): False, ('1st', 'child', 'female'): False, ('1st', 'adult', 'male'): True, ('1st', 'adult', 'female'): False, ('2nd', 'child', 'male'): False, ('2nd', 'child', 'female'): False, ('2nd', 'adult', 'male'): True, ('2nd', 'adult', 'female'): False, ('3rd', 'child', 'male'): True, ('3rd', 'child', 'female'): True, ('3rd', 'adult', 'male'): True, ('3rd', 'adult', 'female'): True, ('crew', 'child', 'male'): 'NA', ('crew', 'child', 'female'): 'NA', ('crew', 'adult', 'male'): True, ('crew', 'adult', 'female'): False}\n"
     ]
    }
   ],
   "source": [
    "# task 1\n",
    "\n",
    "prob_death = {}\n",
    "classifier_death = {}\n",
    "\n",
    "keys = itertools.product(*[classes,ages,genders])\n",
    "\n",
    "for key in keys:\n",
    "    num_survived = hist[key + ('yes',)]\n",
    "    num_died = hist[key + ('no',)]\n",
    "    tot = num_died + num_survived\n",
    "    if tot == 0:\n",
    "        prob_death[key] = 'NA'\n",
    "        classifier_death[key] = 'NA'\n",
    "    else:\n",
    "        prob = num_died/tot\n",
    "        prob_death[key] = prob\n",
    "        classifier_death[key] = (prob > 0.5)\n",
    "    \n",
    "print(prob_death) \n",
    "print(classifier_death)"
   ]
  },
  {
   "cell_type": "code",
   "execution_count": 11,
   "metadata": {},
   "outputs": [
    {
     "name": "stdout",
     "output_type": "stream",
     "text": [
      "{('1st', 'child', 'male'): 0.31693454243248265, ('1st', 'child', 'female'): 0.04372731380559742, ('1st', 'adult', 'male'): 0.5279242393043653, ('1st', 'adult', 'female'): 0.09927006249085625, ('2nd', 'child', 'male'): 0.5221351949825651, ('2nd', 'child', 'female'): 0.09721353955006046, ('2nd', 'adult', 'male'): 0.7247820035436147, ('2nd', 'adult', 'female'): 0.20605561380785742, ('3rd', 'child', 'male'): 0.6960592989362453, ('3rd', 'child', 'female'): 0.18413608335542667, ('3rd', 'adult', 'male'): 0.8466170812276292, ('3rd', 'adult', 'female'): 0.35231843124316914, ('crew', 'child', 'male'): 0.7102191337541417, ('crew', 'child', 'female'): 0.19454776625302708, ('crew', 'adult', 'male'): 0.8552217206955036, ('crew', 'adult', 'female'): 0.3679509299426095}\n",
      "{('1st', 'child', 'male'): False, ('1st', 'child', 'female'): False, ('1st', 'adult', 'male'): True, ('1st', 'adult', 'female'): False, ('2nd', 'child', 'male'): True, ('2nd', 'child', 'female'): False, ('2nd', 'adult', 'male'): True, ('2nd', 'adult', 'female'): False, ('3rd', 'child', 'male'): True, ('3rd', 'child', 'female'): False, ('3rd', 'adult', 'male'): True, ('3rd', 'adult', 'female'): False, ('crew', 'child', 'male'): True, ('crew', 'child', 'female'): False, ('crew', 'adult', 'male'): True, ('crew', 'adult', 'female'): False}\n"
     ]
    }
   ],
   "source": [
    "# task 2\n",
    "\n",
    "class_died = {key: 0 for key in classes}\n",
    "class_survived = {key: 0 for key in classes}\n",
    "age_died = {key: 0 for key in ages}\n",
    "age_survived = {key: 0 for key in ages}\n",
    "gender_died = {key: 0 for key in genders}\n",
    "gender_survived = {key: 0 for key in genders}\n",
    "\n",
    "num_died = 0.0\n",
    "num_survived = 0.0\n",
    "keys = itertools.product(*[classes,ages,genders])\n",
    "for key in keys:\n",
    "    num_died += hist[key + ('no',)]\n",
    "    num_survived += hist[key + ('yes',)]\n",
    "\n",
    "keys = itertools.product(*[classes,ages,genders])\n",
    "for key in keys:\n",
    "    died_prob = hist[key + ('no',)]/num_died\n",
    "    class_died[key[0]] += died_prob\n",
    "    age_died[key[1]] += died_prob\n",
    "    gender_died[key[2]] += died_prob\n",
    "    \n",
    "    survived_prob = hist[key + ('yes',)]/num_survived\n",
    "    class_survived[key[0]] += survived_prob\n",
    "    age_survived[key[1]] += survived_prob\n",
    "    gender_survived[key[2]] += survived_prob\n",
    "    \n",
    "# now find the prior probabilities\n",
    "prob_died = num_died/(num_died + num_survived)\n",
    "prob_survived = 1.0 - prob_died\n",
    "\n",
    "# finally, make our niave bayes classifier\n",
    "niave_bayes = {}\n",
    "niave_bayes_class = {}\n",
    "keys = itertools.product(*[classes,ages,genders])\n",
    "for key in keys:\n",
    "    \n",
    "    death = prob_died * \\\n",
    "            class_died[key[0]] * \\\n",
    "            age_died[key[1]] * \\\n",
    "            gender_died[key[2]]\n",
    "            \n",
    "    life =  prob_survived * \\\n",
    "            class_survived[key[0]] * \\\n",
    "            age_survived[key[1]] * \\\n",
    "            gender_survived[key[2]]\n",
    "            \n",
    "    death_prob = death/(death+life)\n",
    "    niave_bayes[key] = death_prob\n",
    "    niave_bayes_class[key] = (death_prob > 0.5)\n",
    "    \n",
    "print(niave_bayes)\n",
    "print(niave_bayes_class)"
   ]
  },
  {
   "cell_type": "code",
   "execution_count": 10,
   "metadata": {},
   "outputs": [
    {
     "name": "stdout",
     "output_type": "stream",
     "text": [
      "{'1st': 0.08187919463087248, '2nd': 0.11208053691275167, '3rd': 0.3543624161073825, 'crew': 0.4516778523489933}\n",
      "{'1st': 0.28551336146272854, '2nd': 0.1659634317862166, '3rd': 0.25035161744022505, 'crew': 0.29817158931082977}\n",
      "{'child': 0.0348993288590604, 'adult': 0.9651006711409396}\n",
      "{'child': 0.08016877637130802, 'adult': 0.9198312236286921}\n",
      "{'male': 0.9154362416107382, 'female': 0.08456375838926175}\n",
      "{'male': 0.5161744022503516, 'female': 0.4838255977496484}\n",
      "0.6769650159018628\n",
      "0.32303498409813725\n"
     ]
    }
   ],
   "source": [
    "print(class_died)\n",
    "print(class_survived)\n",
    "\n",
    "print(age_died)\n",
    "print(age_survived)\n",
    "\n",
    "print(gender_died)\n",
    "print(gender_survived)\n",
    "\n",
    "print(prob_died)\n",
    "print(prob_survived)"
   ]
  },
  {
   "cell_type": "code",
   "execution_count": null,
   "metadata": {
    "collapsed": true
   },
   "outputs": [],
   "source": []
  }
 ],
 "metadata": {
  "kernelspec": {
   "display_name": "py36",
   "language": "python",
   "name": "py36"
  },
  "language_info": {
   "codemirror_mode": {
    "name": "ipython",
    "version": 3
   },
   "file_extension": ".py",
   "mimetype": "text/x-python",
   "name": "python",
   "nbconvert_exporter": "python",
   "pygments_lexer": "ipython3",
   "version": "3.6.2"
  }
 },
 "nbformat": 4,
 "nbformat_minor": 2
}
